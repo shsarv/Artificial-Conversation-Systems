{
 "cells": [
  {
   "cell_type": "code",
   "execution_count": 16,
   "metadata": {},
   "outputs": [],
   "source": [
    "import tweepy\n",
    "import codecs\n",
    "from time import sleep"
   ]
  },
  {
   "cell_type": "code",
   "execution_count": 12,
   "metadata": {},
   "outputs": [],
   "source": [
    "## fill in your Twitter credentials \n",
    "access_token = ''\n",
    "access_token_secret = ''\n",
    "consumer_key = ''\n",
    "consumer_secret = ''\n",
    "\n",
    "## Set up an instance of the REST API\n",
    "auth = tweepy.OAuthHandler(consumer_key, consumer_secret)\n",
    "auth.set_access_token(access_token, access_token_secret)\n",
    "api = tweepy.API(auth)"
   ]
  },
  {
   "cell_type": "code",
   "execution_count": 13,
   "metadata": {},
   "outputs": [],
   "source": [
    "#stuff = api.user_timeline(screen_name = 'Inspire_Us', count = 100)\n",
    "\n",
    "#for status in stuff:\n",
    "#    print(status.text)"
   ]
  },
  {
   "cell_type": "markdown",
   "metadata": {},
   "source": [
    "# 1. Retweet the tweet containing specific words"
   ]
  },
  {
   "cell_type": "code",
   "execution_count": 14,
   "metadata": {},
   "outputs": [
    {
     "name": "stdout",
     "output_type": "stream",
     "text": [
      "\n",
      "Tweet by: @camelia_parra6\n",
      "Retweeted the tweet\n",
      "\n",
      "Tweet by: @LifeCoachLJ\n",
      "Retweeted the tweet\n",
      "\n",
      "Tweet by: @Jcalarcon22Jhon\n",
      "Retweeted the tweet\n",
      "\n",
      "Tweet by: @Emilio_Canas8\n",
      "[{'code': 327, 'message': 'You have already retweeted this Tweet.'}]\n",
      "\n",
      "Tweet by: @mturki17\n",
      "Retweeted the tweet\n",
      "\n",
      "Tweet by: @Swago_App\n",
      "Retweeted the tweet\n",
      "\n",
      "Tweet by: @Leopold_Gilbert\n",
      "[{'code': 327, 'message': 'You have already retweeted this Tweet.'}]\n",
      "\n",
      "Tweet by: @barbara_briant\n",
      "[{'code': 327, 'message': 'You have already retweeted this Tweet.'}]\n",
      "\n",
      "Tweet by: @MarielaTerraci9\n",
      "[{'code': 327, 'message': 'You have already retweeted this Tweet.'}]\n",
      "\n",
      "Tweet by: @spicerlefresh\n",
      "Retweeted the tweet\n",
      "\n",
      "Tweet by: @lifehackqoutes\n",
      "Retweeted the tweet\n"
     ]
    },
    {
     "ename": "KeyboardInterrupt",
     "evalue": "",
     "output_type": "error",
     "traceback": [
      "\u001b[1;31m---------------------------------------------------------------------------\u001b[0m",
      "\u001b[1;31mKeyboardInterrupt\u001b[0m                         Traceback (most recent call last)",
      "\u001b[1;32m<ipython-input-14-1c62a6d31e45>\u001b[0m in \u001b[0;36m<module>\u001b[1;34m()\u001b[0m\n\u001b[0;32m      8\u001b[0m         \u001b[0mprint\u001b[0m\u001b[1;33m(\u001b[0m\u001b[1;34m'Retweeted the tweet'\u001b[0m\u001b[1;33m)\u001b[0m\u001b[1;33m\u001b[0m\u001b[0m\n\u001b[0;32m      9\u001b[0m \u001b[1;33m\u001b[0m\u001b[0m\n\u001b[1;32m---> 10\u001b[1;33m         \u001b[0msleep\u001b[0m\u001b[1;33m(\u001b[0m\u001b[1;36m5\u001b[0m\u001b[1;33m)\u001b[0m\u001b[1;33m\u001b[0m\u001b[0m\n\u001b[0m\u001b[0;32m     11\u001b[0m \u001b[1;33m\u001b[0m\u001b[0m\n\u001b[0;32m     12\u001b[0m     \u001b[1;32mexcept\u001b[0m \u001b[0mtweepy\u001b[0m\u001b[1;33m.\u001b[0m\u001b[0mTweepError\u001b[0m \u001b[1;32mas\u001b[0m \u001b[0me\u001b[0m\u001b[1;33m:\u001b[0m\u001b[1;33m\u001b[0m\u001b[0m\n",
      "\u001b[1;31mKeyboardInterrupt\u001b[0m: "
     ]
    }
   ],
   "source": [
    "for tweet in tweepy.Cursor(api.search, q='#motivation').items():\n",
    "    try:\n",
    "        print('\\nTweet by: @' + tweet.user.screen_name)\n",
    "\n",
    "        tweet.retweet()\n",
    "        print('Retweeted the tweet')\n",
    "\n",
    "        sleep(3600)\n",
    "\n",
    "    except tweepy.TweepError as e:\n",
    "        print(e.reason)\n",
    "\n",
    "    except StopIteration:\n",
    "        break"
   ]
  },
  {
   "cell_type": "markdown",
   "metadata": {},
   "source": [
    "# 2. Tweet on your timeline"
   ]
  },
  {
   "cell_type": "code",
   "execution_count": 10,
   "metadata": {},
   "outputs": [
    {
     "data": {
      "text/plain": [
       "Status(_api=<tweepy.api.API object at 0x000001F60D4E1D30>, _json={'created_at': 'Wed May 02 06:52:36 +0000 2018', 'id': 991571140077342720, 'id_str': '991571140077342720', 'text': 'This is a sample tweet using Tweepy with python', 'truncated': False, 'entities': {'hashtags': [], 'symbols': [], 'user_mentions': [], 'urls': []}, 'source': '<a href=\"http://twitteranalysisnatasha.com\" rel=\"nofollow\">Twitter_Analysis_Natasha</a>', 'in_reply_to_status_id': None, 'in_reply_to_status_id_str': None, 'in_reply_to_user_id': None, 'in_reply_to_user_id_str': None, 'in_reply_to_screen_name': None, 'user': {'id': 216647095, 'id_str': '216647095', 'name': 'Natasha Sharma', 'screen_name': 'NatashaSharma23', 'location': '', 'description': '', 'url': None, 'entities': {'description': {'urls': []}}, 'protected': False, 'followers_count': 13, 'friends_count': 38, 'listed_count': 0, 'created_at': 'Wed Nov 17 10:24:08 +0000 2010', 'favourites_count': 7, 'utc_offset': 19800, 'time_zone': 'New Delhi', 'geo_enabled': False, 'verified': False, 'statuses_count': 14, 'lang': 'en', 'contributors_enabled': False, 'is_translator': False, 'is_translation_enabled': False, 'profile_background_color': '000000', 'profile_background_image_url': 'http://abs.twimg.com/images/themes/theme1/bg.png', 'profile_background_image_url_https': 'https://abs.twimg.com/images/themes/theme1/bg.png', 'profile_background_tile': False, 'profile_image_url': 'http://pbs.twimg.com/profile_images/991369875053477888/Z1V5W9vo_normal.jpg', 'profile_image_url_https': 'https://pbs.twimg.com/profile_images/991369875053477888/Z1V5W9vo_normal.jpg', 'profile_banner_url': 'https://pbs.twimg.com/profile_banners/216647095/1523622507', 'profile_link_color': '1B95E0', 'profile_sidebar_border_color': '000000', 'profile_sidebar_fill_color': '000000', 'profile_text_color': '000000', 'profile_use_background_image': False, 'has_extended_profile': True, 'default_profile': False, 'default_profile_image': False, 'following': False, 'follow_request_sent': False, 'notifications': False, 'translator_type': 'none'}, 'geo': None, 'coordinates': None, 'place': None, 'contributors': None, 'is_quote_status': False, 'retweet_count': 0, 'favorite_count': 0, 'favorited': False, 'retweeted': False, 'lang': 'en'}, created_at=datetime.datetime(2018, 5, 2, 6, 52, 36), id=991571140077342720, id_str='991571140077342720', text='This is a sample tweet using Tweepy with python', truncated=False, entities={'hashtags': [], 'symbols': [], 'user_mentions': [], 'urls': []}, source='Twitter_Analysis_Natasha', source_url='http://twitteranalysisnatasha.com', in_reply_to_status_id=None, in_reply_to_status_id_str=None, in_reply_to_user_id=None, in_reply_to_user_id_str=None, in_reply_to_screen_name=None, author=User(_api=<tweepy.api.API object at 0x000001F60D4E1D30>, _json={'id': 216647095, 'id_str': '216647095', 'name': 'Natasha Sharma', 'screen_name': 'NatashaSharma23', 'location': '', 'description': '', 'url': None, 'entities': {'description': {'urls': []}}, 'protected': False, 'followers_count': 13, 'friends_count': 38, 'listed_count': 0, 'created_at': 'Wed Nov 17 10:24:08 +0000 2010', 'favourites_count': 7, 'utc_offset': 19800, 'time_zone': 'New Delhi', 'geo_enabled': False, 'verified': False, 'statuses_count': 14, 'lang': 'en', 'contributors_enabled': False, 'is_translator': False, 'is_translation_enabled': False, 'profile_background_color': '000000', 'profile_background_image_url': 'http://abs.twimg.com/images/themes/theme1/bg.png', 'profile_background_image_url_https': 'https://abs.twimg.com/images/themes/theme1/bg.png', 'profile_background_tile': False, 'profile_image_url': 'http://pbs.twimg.com/profile_images/991369875053477888/Z1V5W9vo_normal.jpg', 'profile_image_url_https': 'https://pbs.twimg.com/profile_images/991369875053477888/Z1V5W9vo_normal.jpg', 'profile_banner_url': 'https://pbs.twimg.com/profile_banners/216647095/1523622507', 'profile_link_color': '1B95E0', 'profile_sidebar_border_color': '000000', 'profile_sidebar_fill_color': '000000', 'profile_text_color': '000000', 'profile_use_background_image': False, 'has_extended_profile': True, 'default_profile': False, 'default_profile_image': False, 'following': False, 'follow_request_sent': False, 'notifications': False, 'translator_type': 'none'}, id=216647095, id_str='216647095', name='Natasha Sharma', screen_name='NatashaSharma23', location='', description='', url=None, entities={'description': {'urls': []}}, protected=False, followers_count=13, friends_count=38, listed_count=0, created_at=datetime.datetime(2010, 11, 17, 10, 24, 8), favourites_count=7, utc_offset=19800, time_zone='New Delhi', geo_enabled=False, verified=False, statuses_count=14, lang='en', contributors_enabled=False, is_translator=False, is_translation_enabled=False, profile_background_color='000000', profile_background_image_url='http://abs.twimg.com/images/themes/theme1/bg.png', profile_background_image_url_https='https://abs.twimg.com/images/themes/theme1/bg.png', profile_background_tile=False, profile_image_url='http://pbs.twimg.com/profile_images/991369875053477888/Z1V5W9vo_normal.jpg', profile_image_url_https='https://pbs.twimg.com/profile_images/991369875053477888/Z1V5W9vo_normal.jpg', profile_banner_url='https://pbs.twimg.com/profile_banners/216647095/1523622507', profile_link_color='1B95E0', profile_sidebar_border_color='000000', profile_sidebar_fill_color='000000', profile_text_color='000000', profile_use_background_image=False, has_extended_profile=True, default_profile=False, default_profile_image=False, following=False, follow_request_sent=False, notifications=False, translator_type='none'), user=User(_api=<tweepy.api.API object at 0x000001F60D4E1D30>, _json={'id': 216647095, 'id_str': '216647095', 'name': 'Natasha Sharma', 'screen_name': 'NatashaSharma23', 'location': '', 'description': '', 'url': None, 'entities': {'description': {'urls': []}}, 'protected': False, 'followers_count': 13, 'friends_count': 38, 'listed_count': 0, 'created_at': 'Wed Nov 17 10:24:08 +0000 2010', 'favourites_count': 7, 'utc_offset': 19800, 'time_zone': 'New Delhi', 'geo_enabled': False, 'verified': False, 'statuses_count': 14, 'lang': 'en', 'contributors_enabled': False, 'is_translator': False, 'is_translation_enabled': False, 'profile_background_color': '000000', 'profile_background_image_url': 'http://abs.twimg.com/images/themes/theme1/bg.png', 'profile_background_image_url_https': 'https://abs.twimg.com/images/themes/theme1/bg.png', 'profile_background_tile': False, 'profile_image_url': 'http://pbs.twimg.com/profile_images/991369875053477888/Z1V5W9vo_normal.jpg', 'profile_image_url_https': 'https://pbs.twimg.com/profile_images/991369875053477888/Z1V5W9vo_normal.jpg', 'profile_banner_url': 'https://pbs.twimg.com/profile_banners/216647095/1523622507', 'profile_link_color': '1B95E0', 'profile_sidebar_border_color': '000000', 'profile_sidebar_fill_color': '000000', 'profile_text_color': '000000', 'profile_use_background_image': False, 'has_extended_profile': True, 'default_profile': False, 'default_profile_image': False, 'following': False, 'follow_request_sent': False, 'notifications': False, 'translator_type': 'none'}, id=216647095, id_str='216647095', name='Natasha Sharma', screen_name='NatashaSharma23', location='', description='', url=None, entities={'description': {'urls': []}}, protected=False, followers_count=13, friends_count=38, listed_count=0, created_at=datetime.datetime(2010, 11, 17, 10, 24, 8), favourites_count=7, utc_offset=19800, time_zone='New Delhi', geo_enabled=False, verified=False, statuses_count=14, lang='en', contributors_enabled=False, is_translator=False, is_translation_enabled=False, profile_background_color='000000', profile_background_image_url='http://abs.twimg.com/images/themes/theme1/bg.png', profile_background_image_url_https='https://abs.twimg.com/images/themes/theme1/bg.png', profile_background_tile=False, profile_image_url='http://pbs.twimg.com/profile_images/991369875053477888/Z1V5W9vo_normal.jpg', profile_image_url_https='https://pbs.twimg.com/profile_images/991369875053477888/Z1V5W9vo_normal.jpg', profile_banner_url='https://pbs.twimg.com/profile_banners/216647095/1523622507', profile_link_color='1B95E0', profile_sidebar_border_color='000000', profile_sidebar_fill_color='000000', profile_text_color='000000', profile_use_background_image=False, has_extended_profile=True, default_profile=False, default_profile_image=False, following=False, follow_request_sent=False, notifications=False, translator_type='none'), geo=None, coordinates=None, place=None, contributors=None, is_quote_status=False, retweet_count=0, favorite_count=0, favorited=False, retweeted=False, lang='en')"
      ]
     },
     "execution_count": 10,
     "metadata": {},
     "output_type": "execute_result"
    }
   ],
   "source": [
    "api.update_status(status=\"This is a sample tweet using Tweepy with python\")"
   ]
  },
  {
   "cell_type": "markdown",
   "metadata": {},
   "source": [
    "# 3. Add to favourites and follow the user"
   ]
  },
  {
   "cell_type": "code",
   "execution_count": 15,
   "metadata": {},
   "outputs": [
    {
     "name": "stdout",
     "output_type": "stream",
     "text": [
      "\n",
      "Tweet by: @ElodieCamo\n",
      "Favorited the tweet\n",
      "Followed the user\n",
      "\n",
      "Tweet by: @QuoteMyWall\n",
      "Favorited the tweet\n",
      "Followed the user\n",
      "\n",
      "Tweet by: @styleandcurve\n",
      "Favorited the tweet\n",
      "Followed the user\n",
      "\n",
      "Tweet by: @cozmicsoulfire\n",
      "Favorited the tweet\n",
      "Followed the user\n",
      "\n",
      "Tweet by: @henryooi52\n",
      "Favorited the tweet\n",
      "Followed the user\n"
     ]
    },
    {
     "ename": "KeyboardInterrupt",
     "evalue": "",
     "output_type": "error",
     "traceback": [
      "\u001b[1;31m---------------------------------------------------------------------------\u001b[0m",
      "\u001b[1;31mKeyboardInterrupt\u001b[0m                         Traceback (most recent call last)",
      "\u001b[1;32m<ipython-input-15-2f6a3413c8cf>\u001b[0m in \u001b[0;36m<module>\u001b[1;34m()\u001b[0m\n\u001b[0;32m     11\u001b[0m         \u001b[0mprint\u001b[0m\u001b[1;33m(\u001b[0m\u001b[1;34m'Followed the user'\u001b[0m\u001b[1;33m)\u001b[0m\u001b[1;33m\u001b[0m\u001b[0m\n\u001b[0;32m     12\u001b[0m \u001b[1;33m\u001b[0m\u001b[0m\n\u001b[1;32m---> 13\u001b[1;33m         \u001b[0msleep\u001b[0m\u001b[1;33m(\u001b[0m\u001b[1;36m5\u001b[0m\u001b[1;33m)\u001b[0m\u001b[1;33m\u001b[0m\u001b[0m\n\u001b[0m\u001b[0;32m     14\u001b[0m \u001b[1;33m\u001b[0m\u001b[0m\n\u001b[0;32m     15\u001b[0m     \u001b[1;32mexcept\u001b[0m \u001b[0mtweepy\u001b[0m\u001b[1;33m.\u001b[0m\u001b[0mTweepError\u001b[0m \u001b[1;32mas\u001b[0m \u001b[0me\u001b[0m\u001b[1;33m:\u001b[0m\u001b[1;33m\u001b[0m\u001b[0m\n",
      "\u001b[1;31mKeyboardInterrupt\u001b[0m: "
     ]
    }
   ],
   "source": [
    "for tweet in tweepy.Cursor(api.search, q='#motivation').items():\n",
    "    try:\n",
    "        print('\\nTweet by: @' + tweet.user.screen_name)\n",
    "\n",
    "        # Favorite the tweet\n",
    "        tweet.favorite()\n",
    "        print('Favorited the tweet')\n",
    "\n",
    "        # Follow the user who tweeted\n",
    "        tweet.user.follow()\n",
    "        print('Followed the user')\n",
    "\n",
    "        #sleep(5)\n",
    "        sleep(3600)\n",
    "\n",
    "    except tweepy.TweepError as e:\n",
    "        print(e.reason)\n",
    "\n",
    "    except StopIteration:\n",
    "        break       \n",
    "        "
   ]
  }
 ],
 "metadata": {
  "kernelspec": {
   "display_name": "Python 3",
   "language": "python",
   "name": "python3"
  },
  "language_info": {
   "codemirror_mode": {
    "name": "ipython",
    "version": 3
   },
   "file_extension": ".py",
   "mimetype": "text/x-python",
   "name": "python",
   "nbconvert_exporter": "python",
   "pygments_lexer": "ipython3",
   "version": "3.6.4"
  }
 },
 "nbformat": 4,
 "nbformat_minor": 2
}
